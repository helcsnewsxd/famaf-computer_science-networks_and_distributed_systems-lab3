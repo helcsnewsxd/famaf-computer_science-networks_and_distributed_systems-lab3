{
  "cells": [
    {
      "attachments": {},
      "cell_type": "markdown",
      "metadata": {
        "id": "1VbZ95mQfubW"
      },
      "source": [
        "# Graficos de la parte Analisis"
      ]
    },
    {
      "attachments": {},
      "cell_type": "markdown",
      "metadata": {
        "id": "tjQXEOwtiCYR"
      },
      "source": [
        "## Vamos a exportar los datos de omnet.\n",
        "\n",
        "1. generar un archivo .csv con datos en omnet\n",
        "3. trabajar esa data en una notebook con jupyter/jupyterlab o colab"
      ]
    },
    {
      "cell_type": "code",
      "execution_count": null,
      "metadata": {
        "id": "9fxR71412cvH"
      },
      "outputs": [],
      "source": [
        "#Configuracion inicial\n",
        "%matplotlib inline\n",
        "import matplotlib.pyplot as plt #librería para graficas de python\n",
        "import numpy as np # extiende las librerias de matemática de python\n",
        "import pandas #libreria para procesamiento de datos muy usada en la industria\n",
        "import seaborn # Extiende las funcionalidades de matplotlib, muy usado en data visualization\n",
        "\n",
        "# Con esto hacemos los gráficos más grandes, adecuados para el proyector.\n",
        "##seaborn.set_context(context='talk', font_scale=1.2)\n"
      ]
    },
    {
      "cell_type": "code",
      "execution_count": null,
      "metadata": {
        "id": "eqyq57Tn-b4c"
      },
      "outputs": [],
      "source": [
        "#Podemos importar archivos a nuestro notebook con este snippet \n",
        "from google.colab import files  \n",
        "\n",
        "uploaded = files.upload()\n",
        "\n",
        "for fn in uploaded.keys():\n",
        "  print('User uploaded file \"{name}\" with length {length} bytes'.format(\n",
        "      name=fn, length=len(uploaded[fn])))"
      ]
    },
    {
      "cell_type": "code",
      "execution_count": null,
      "metadata": {
        "id": "Ri7e75Ih_J4M"
      },
      "outputs": [],
      "source": [
        "#Podemos usar comandos de bash con el %\n",
        "%ls"
      ]
    },
    {
      "cell_type": "code",
      "execution_count": null,
      "metadata": {
        "id": "K989pV1l2cyf"
      },
      "outputs": [],
      "source": [
        "## Cambiar la dirección del conjunto de datos de acuerdo a dónde lo guardaron\n",
        "data = pandas.read_csv(\"analisis2.csv\")"
      ]
    },
    {
      "cell_type": "code",
      "execution_count": null,
      "metadata": {
        "id": "B2snObvf2czg"
      },
      "outputs": [],
      "source": [
        "## Veamos los datos en forma de tabla, e identificamos la fila y columna en donde estan mis datos de interés\n",
        "data"
      ]
    },
    {
      "attachments": {},
      "cell_type": "markdown",
      "metadata": {
        "id": "cMuJr3imSifV"
      },
      "source": [
        "## Procesamiento de datos\n",
        "\n",
        "Limpiamos los datos para poder utilizarlos"
      ]
    },
    {
      "cell_type": "code",
      "execution_count": null,
      "metadata": {
        "colab": {
          "base_uri": "https://localhost:8080/",
          "height": 286
        },
        "id": "qLRUfxFN2c0N",
        "outputId": "02c55237-365c-491b-e9af-74f19ebb7dad"
      },
      "outputs": [],
      "source": [
        "# Esto nos dice las columnas de nuestra tabla\n",
        "# data.columns\n",
        "\n",
        "#almacenamos los parametros de intervalos en una lista\n",
        "\n",
        "aux = data.loc[data['attrname'].isin(['Network.nodeTx.gen.generationInterval'])]\n",
        "aux = aux.iloc[:,5]\n",
        "aux.reset_index(drop=True, inplace=True)\n",
        "\n",
        "interval = []\n",
        "\n",
        "for i in aux:\n",
        "  interval.append(i)\n",
        "\n",
        "interval.sort(reverse=True)\n",
        "\n",
        "#creamos un dataframe para los vectores\n",
        "\n",
        "vectors = data.loc[data['type'].isin(['vector'])]\n",
        "vectors = vectors.drop(columns=[vectors.columns[1],\n",
        "                                vectors.columns[4],\n",
        "                                vectors.columns[5]])\n",
        "\n",
        "\n",
        "#almacenamos las iteraciones en una lista de sub-dataframes\n",
        "\n",
        "dataframes = []\n",
        "for run, group in vectors.groupby('run'):\n",
        "  dataframes.append(group)\n",
        "\n",
        "for j, df in enumerate(dataframes):\n",
        "  df['run'] = (df.iat[0, 0])[8]\n",
        "  df.reset_index(drop=True, inplace=True)\n",
        "\n",
        "\n",
        "print(\"Numero de iteraciones a analizar: \", len(dataframes))\n",
        "\n",
        "\n",
        "# iterations  0, 1, 2, 3, 4 = 0.1, 0.2, 0.3, 0.5, 0.1\n",
        "\n",
        "dataframes[0]"
      ]
    },
    {
      "cell_type": "code",
      "execution_count": null,
      "metadata": {
        "id": "6A0OvlZ72c1y"
      },
      "outputs": [],
      "source": [
        "def parse_vector(df, index):\n",
        "  time = df['vectime'].loc[[index]].tolist()\n",
        "  value = df['vecvalue'].loc[[index]].tolist()\n",
        "  return time, value\n",
        "\n",
        "def parse_value(val):\n",
        "  res = list(map(float, val[0].split()))\n",
        "  return res\n",
        "\n",
        "array = []\n",
        "\n",
        "for df in dataframes:\n",
        "  #Omnet guarda los valores de nuestro \"vector\" (lista de valores) en una celda, por lo que tengo que esxtraer estos valores\n",
        "  time_sentpkt, count_sentpkt = parse_vector(df, 0)\n",
        "  time_gen, buffer_gen = parse_vector(df, 1)\n",
        "  time_q, buffer_q = parse_vector(df, 2)\n",
        "  time_noderx, buffer_noderx = parse_vector(df, 3)\n",
        "  time_rcvpkt, count_rcvpkt = parse_vector(df, 5)\n",
        "  parsed_data = []\n",
        "  # Los valores que sacamos estan como un solostring separados por comas por lo que tengo que convertirlos a listas para poder graficarlos\n",
        "  parsed_data.append((parse_value(time_gen), parse_value(buffer_gen)))\n",
        "  parsed_data.append((parse_value(time_q), parse_value(buffer_q)))\n",
        "  parsed_data.append((parse_value(time_noderx), parse_value(buffer_noderx)))\n",
        "  parsed_data.append((parse_value(time_sentpkt), parse_value(count_sentpkt)))\n",
        "  parsed_data.append((parse_value(time_rcvpkt), parse_value(count_rcvpkt)))\n",
        "  if 6 in df.index:\n",
        "    time_drops, count_drops = parse_vector(df, 6)\n",
        "    parsed_data.append((parse_value(time_drops), parse_value(count_drops)))\n",
        "  else:\n",
        "    parsed_data.append(([],[]))\n",
        "  array.append(parsed_data)\n",
        "\n",
        "#array[Iteracion][Vector][Time/Value]\n",
        "\n",
        "#dataframes[0]"
      ]
    },
    {
      "attachments": {},
      "cell_type": "markdown",
      "metadata": {
        "id": "ZeQ399Nl_RIG"
      },
      "source": [
        "## Graficamos los datos"
      ]
    },
    {
      "cell_type": "code",
      "execution_count": null,
      "metadata": {
        "id": "uojNH2ux3gvd"
      },
      "outputs": [],
      "source": [
        "# Define el numero de subplots segun el numero de iteraciones\n",
        "num_subplots = len(array)\n",
        "\n",
        "# Calcula el numero de filas y columnas para el plot\n",
        "num_rows = (num_subplots + 2) // 3 \n",
        "num_cols = min(num_subplots, 3)\n",
        "\n",
        "# Crea la figura con subplots\n",
        "fig, axs = plt.subplots(num_rows, num_cols, figsize=(12, 4*num_rows))\n",
        "\n",
        "if num_subplots == 1:\n",
        "    axs = np.array([axs])\n",
        "\n",
        "# Itera el array y traza cada subplot\n",
        "for n, i in enumerate(array):\n",
        "    row = n // num_cols\n",
        "    col = n % num_cols\n",
        "\n",
        "    ax = axs[row, col]  # Selecciona el subplot\n",
        "\n",
        "    ax.plot(i[0][0], i[0][1], color='tab:blue', label=\"Tx\")\n",
        "    ax.plot(i[1][0], i[1][1], color='tab:orange', label=\"Nx\")\n",
        "    ax.plot(i[2][0], i[2][1], color='tab:green', label=\"Rx\")\n",
        "\n",
        "    ax.set_title('Case Study 2, generationInterval: %s' % interval[n], fontsize=9)\n",
        "    ax.set_xlabel(\"tiempo de simulacion\")\n",
        "    ax.set_ylabel(\"Cantidad de paquetes en el buffer\")\n",
        "    ax.legend()\n",
        "\n",
        "# Remueve subplots vacios\n",
        "if num_subplots < num_rows * num_cols:\n",
        "    for i in range(num_subplots, num_rows * num_cols):\n",
        "        fig.delaxes(axs.flatten()[i])\n",
        "\n",
        "# Titulo principal del plot\n",
        "plt.suptitle('Ocupacion de buffers en el sistema', fontsize=12)\n",
        "\n",
        "# Ajustar espacio entre subplots\n",
        "plt.tight_layout()\n",
        "\n",
        "# Mostrar plot\n",
        "plt.show()\n"
      ]
    },
    {
      "cell_type": "code",
      "execution_count": null,
      "metadata": {
        "id": "dortTitvBTtD"
      },
      "outputs": [],
      "source": [
        "# Define el numero de subplots segun el numero de iteraciones\n",
        "num_subplots = len(array)\n",
        "\n",
        "# Calcula el numero de filas y columnas para el plot\n",
        "num_rows = (num_subplots + 2) // 3 \n",
        "num_cols = min(num_subplots, 3)\n",
        "\n",
        "# Crea la figura con subplots\n",
        "fig, axs = plt.subplots(num_rows, num_cols, figsize=(15, 5 * num_rows))\n",
        "fig.suptitle('Paquetes', fontsize=16)\n",
        "\n",
        "# Itera el array y traza cada subplot\n",
        "for n, i in enumerate(array):\n",
        "    row = n // num_cols\n",
        "    col = n % num_cols\n",
        "\n",
        "    ax = axs[row, col]  # Selecciona el subplot\n",
        "\n",
        "    ax.set_title('Case Study 2, generationInterval: %s' % interval[n])\n",
        "\n",
        "    colors = ['blue', 'green', 'red']  # Colores para las bars\n",
        "    \n",
        "    bars = ax.bar(['Enviados', 'Recibidos', 'Dropped'], [len(i[3][1]), len(i[4][1]), len(i[5][1])], color=colors)\n",
        "\n",
        "    ax.text(.99, .99,\n",
        "        'Buffers en t=200: Tx:%i Nx:%i Rx:%i' %(i[0][1][len(i[0][1])-1],\n",
        "                                                i[1][1][len(i[1][1])-1],\n",
        "                                                i[2][1][len(i[2][1])-1]),\n",
        "        style='italic',\n",
        "        horizontalalignment='right',\n",
        "        verticalalignment='top',\n",
        "        transform=ax.transAxes)\n",
        "    \n",
        "    for bar in bars:\n",
        "        height = bar.get_height()\n",
        "        ax.text(bar.get_x() + bar.get_width() / 2, height, '%d' % int(height),\n",
        "                ha='center', va='bottom')\n",
        "\n",
        "# Remueve subplots vacios\n",
        "if num_subplots < num_rows * num_cols:\n",
        "    for i in range(num_subplots, num_rows * num_cols):\n",
        "        fig.delaxes(axs.flatten()[i])\n",
        "\n",
        "# Ajustar espacio entre subplots\n",
        "fig.tight_layout()\n",
        "\n",
        "# Mostrar el plot\n",
        "plt.show()\n"
      ]
    },
    {
      "attachments": {},
      "cell_type": "markdown",
      "metadata": {
        "id": "tRSsdL4DzILz"
      },
      "source": [
        "# Parte diseño"
      ]
    },
    {
      "attachments": {},
      "cell_type": "markdown",
      "metadata": {
        "id": "tWdCBQZsIf2D"
      },
      "source": [
        "## Load data"
      ]
    },
    {
      "cell_type": "code",
      "execution_count": null,
      "metadata": {
        "id": "DIt6WuO_rWdf"
      },
      "outputs": [],
      "source": [
        "#Configuracion inicial\n",
        "%matplotlib inline\n",
        "import matplotlib.pyplot as plt #librería para graficas de python\n",
        "import numpy as np # extiende las librerias de matemática de python\n",
        "import pandas #libreria para procesamiento de datos muy usada en la industria\n",
        "import seaborn # Extiende las funcionalidades de matplotlib, muy usado en data visualization\n",
        "\n",
        "# Con esto hacemos los gráficos más grandes, adecuados para el proyector.\n",
        "##seaborn.set_context(context='talk', font_scale=1.2)"
      ]
    },
    {
      "cell_type": "code",
      "execution_count": null,
      "metadata": {
        "colab": {
          "base_uri": "https://localhost:8080/",
          "height": 142
        },
        "id": "1wDVtfoHzPPH",
        "outputId": "06688683-c219-47b9-8df5-77abca360681"
      },
      "outputs": [],
      "source": [
        "#Podemos importar archivos a nuestro notebook con este snippet \n",
        "from google.colab import files  \n",
        "\n",
        "uploaded = files.upload()\n",
        "\n",
        "for fn in uploaded.keys():\n",
        "  print('User uploaded file \"{name}\" with length {length} bytes'.format(\n",
        "      name=fn, length=len(uploaded[fn])))"
      ]
    },
    {
      "cell_type": "code",
      "execution_count": null,
      "metadata": {
        "colab": {
          "base_uri": "https://localhost:8080/"
        },
        "id": "9JgcYIy5WUz2",
        "outputId": "fc1197d4-c2a5-4d87-ec59-60a0406fc8a4"
      },
      "outputs": [],
      "source": [
        "%ls"
      ]
    },
    {
      "cell_type": "code",
      "execution_count": null,
      "metadata": {
        "id": "Y-xg_56QY9U1"
      },
      "outputs": [],
      "source": [
        "data = pandas.read_csv(\"test2.csv\")\n",
        "\n",
        "data     #uncomment to show data"
      ]
    },
    {
      "attachments": {},
      "cell_type": "markdown",
      "metadata": {
        "id": "6qT_EMSbIwrt"
      },
      "source": [
        "## Procesamiento de datos"
      ]
    },
    {
      "cell_type": "code",
      "execution_count": null,
      "metadata": {
        "colab": {
          "base_uri": "https://localhost:8080/",
          "height": 443
        },
        "id": "TahsQF9bZQsY",
        "outputId": "5dd8ac80-9720-44dc-cae6-afb6ec32b740"
      },
      "outputs": [],
      "source": [
        "\n",
        "#almacenamos los parametros de intervalos en una lista\n",
        "\n",
        "aux = data.loc[data['attrname'].isin(['Network.nodeTx.gen.generationInterval'])]\n",
        "aux = aux.iloc[:,5]\n",
        "aux.reset_index(drop=True, inplace=True)\n",
        "\n",
        "interval = []\n",
        "\n",
        "for i in aux:\n",
        "  interval.append(i)\n",
        "\n",
        "interval.sort(reverse=True)\n",
        "\n",
        "#creamos un dataframe para los vectores\n",
        "\n",
        "vectors = data.loc[data['type'].isin(['vector'])]\n",
        "vectors = vectors.drop(columns=[vectors.columns[1],\n",
        "                                vectors.columns[4],\n",
        "                                vectors.columns[5]])\n",
        "\n",
        "#almacenamos las iteraciones en una lista de sub-dataframes\n",
        "\n",
        "dataframes = []\n",
        "for run, group in vectors.groupby('run'):\n",
        "  dataframes.append(group)\n",
        "\n",
        "for j, df in enumerate(dataframes):\n",
        "  df['run'] = (df.iat[0, 0])[8]\n",
        "  df.reset_index(drop=True, inplace=True)\n",
        "\n",
        "\n",
        "print(\"Numero de iteraciones a analizar: \", len(dataframes))\n",
        "\n",
        "\n",
        "# iterations  0, 1, 2, 3, 4 = 0.1, 0.2, 0.3, 0.5, 0.1\n",
        "\n",
        "\n",
        "dataframes[5]\n",
        "#dataframes[1].loc[dataframes[1]['name'] == 'packetsDropped'].index\n"
      ]
    },
    {
      "cell_type": "code",
      "execution_count": null,
      "metadata": {
        "colab": {
          "base_uri": "https://localhost:8080/",
          "height": 426
        },
        "id": "EtV8Iql2L_5_",
        "outputId": "175e20a6-014d-4910-d133-331ba0cb38cb"
      },
      "outputs": [],
      "source": [
        "dataframes[0]"
      ]
    },
    {
      "cell_type": "code",
      "execution_count": null,
      "metadata": {
        "id": "_WUer68eZ9Po"
      },
      "outputs": [],
      "source": [
        "def parse_vector(df, index):\n",
        "  time = df['vectime'].loc[[index]].tolist()\n",
        "  value = df['vecvalue'].loc[[index]].tolist()\n",
        "  return time, value\n",
        "\n",
        "def parse_value(val):\n",
        "  res = list(map(float, val[0].split()))\n",
        "  return res\n",
        "\n",
        "array = []\n",
        "\n",
        "for n, df in enumerate(dataframes):\n",
        "  # Omnet guarda los valores de nuestro \"vector\" (lista de valores) en una celda,\n",
        "  # por lo que tengo que esxtraer estos valores\n",
        "  time_genpkt, count_genpkt = parse_vector(df, 0)   #Paquetes generados\n",
        "  time_tratx, buffer_tratx = parse_vector(df, 1)    #Buffer TraTx\n",
        "  time_sentpkt, count_sentpkt = parse_vector(df,2)  #Paquetes enviados por TraTx\n",
        "  time_q0, buffer_q0 = parse_vector(df, 3)          #Buffer general 0\n",
        "  time_trarx, buffer_trarx = parse_vector(df, 4)    #Buffer TraRx\n",
        "  time_rcv, count_rcv = parse_vector(df, 5)         #Paquetes recibidos TraRx\n",
        "  time_ctrlpkt, count_ctrlpkt = parse_vector(df, 6) #Control Packets enviados\n",
        "  time_q1, buffer_q1 = parse_vector(df, 7)          #Buffer general 1\n",
        "  time_ctrlrcv, count_ctrlrcv = parse_vector(df, 8) #Control Packets Recieved\n",
        "  time_delay, count_delay = parse_vector(df, 9)     #Sink Delay\n",
        "  time_pktrcv, count_pktrcv = parse_vector(df, 10)  #Paquetes entregados a sink\n",
        "\n",
        "  # Los valores que sacamos estan en un string separados por espacios,\n",
        "  # los convertimos a listas para poder graficarlos\n",
        "\n",
        "  parsed_data = []  \n",
        "  # parsed_data.append((parse_value(), parse_value()))\n",
        "  parsed_data.append((parse_value(time_genpkt), parse_value(count_genpkt)))\n",
        "  parsed_data.append((parse_value(time_tratx), parse_value(buffer_tratx)))\n",
        "  parsed_data.append((parse_value(time_sentpkt), parse_value(count_sentpkt)))\n",
        "  parsed_data.append((parse_value(time_q0), parse_value(buffer_q0)))\n",
        "  parsed_data.append((parse_value(time_trarx), parse_value(buffer_trarx)))\n",
        "  parsed_data.append((parse_value(time_rcv), parse_value(count_rcv)))\n",
        "  parsed_data.append((parse_value(time_ctrlpkt), parse_value(count_ctrlpkt)))\n",
        "  parsed_data.append((parse_value(time_q1), parse_value(buffer_q1)))\n",
        "  parsed_data.append((parse_value(time_ctrlrcv), parse_value(count_ctrlrcv)))\n",
        "  parsed_data.append((parse_value(time_delay), parse_value(count_delay)))\n",
        "  parsed_data.append((parse_value(time_pktrcv), parse_value(count_pktrcv)))\n",
        "  if 'packetsDropped' in df['name'].values:\n",
        "    time_drops, count_drops = parse_vector(df, 11)\n",
        "    parsed_data.append((parse_value(time_drops), parse_value(count_drops)))\n",
        "  else:\n",
        "    parsed_data.append(([],[]))\n",
        "  array.append(parsed_data)\n",
        "\n",
        "#array[Iteracion][Vector][Time/Value]\n",
        "\n",
        "#print(array[0][11][1])"
      ]
    },
    {
      "attachments": {},
      "cell_type": "markdown",
      "metadata": {
        "id": "lmusySzjHsKp"
      },
      "source": [
        "## Graficos"
      ]
    },
    {
      "cell_type": "code",
      "execution_count": null,
      "metadata": {
        "id": "FFpYKHBAEqag"
      },
      "outputs": [],
      "source": [
        "# Define el numero de subplots segun el length de nuestro array\n",
        "num_subplots = len(array)\n",
        "\n",
        "# Calcula el numero de filas y columnas para los subplots\n",
        "num_rows = (num_subplots + 2) // 3  # Redondeamos\n",
        "num_cols = min(num_subplots, 3)\n",
        "\n",
        "# Crea la figura con subplots\n",
        "fig, axs = plt.subplots(num_rows, num_cols, figsize=(12, 4*num_rows))\n",
        "\n",
        "if num_subplots == 1:\n",
        "    axs = np.array([axs])\n",
        "\n",
        "# Itera el array y crea cada subplot\n",
        "for n, i in enumerate(array):\n",
        "    row = n // num_cols\n",
        "    col = n % num_cols\n",
        "\n",
        "    ax = axs[row, col]  # Selecciona el subplot\n",
        "\n",
        "    ax.plot(i[1][0], i[1][1], color='tab:blue', label=\"Tx\")\n",
        "    ax.plot(i[3][0], i[3][1], color='tab:orange', label=\"Nx\")\n",
        "    ax.plot(i[4][0], i[4][1], color='tab:green', label=\"Rx\")\n",
        "\n",
        "    ax.set_title('Case Study 2, generationInterval: %s' % interval[n], fontsize=9)\n",
        "    ax.set_xlabel(\"tiempo de simulacion\")\n",
        "    ax.set_ylabel(\"Cantidad de paquetes en el buffer\")\n",
        "    ax.legend()\n",
        "\n",
        "# Remueve cualquier subplot vacia\n",
        "if num_subplots < num_rows * num_cols:\n",
        "    for i in range(num_subplots, num_rows * num_cols):\n",
        "        fig.delaxes(axs.flatten()[i])\n",
        "\n",
        "# Titulo principal\n",
        "plt.suptitle('Ocupacion de buffers en el sistema', fontsize=12)\n",
        "\n",
        "# Ajusta el espaciado entre subplots\n",
        "plt.tight_layout()\n",
        "\n",
        "# Muestra el plot\n",
        "plt.show()\n"
      ]
    },
    {
      "cell_type": "code",
      "execution_count": null,
      "metadata": {
        "id": "layj9J998LAA"
      },
      "outputs": [],
      "source": [
        "# Define el numero de subplots segun el length de nuestro array\n",
        "num_subplots = len(array)\n",
        "\n",
        "# Calcula el numero de filas y columnas para los subplots\n",
        "num_rows = (num_subplots + 2) // 3  # Round up to the nearest integer\n",
        "num_cols = min(num_subplots, 3)\n",
        "\n",
        "# Crea la figura con subplots\n",
        "fig, axs = plt.subplots(num_rows, num_cols, figsize=(15, 5 * num_rows))\n",
        "fig.suptitle('Paquetes', fontsize=16)\n",
        "\n",
        "# Itera el array y crea cada subplot\n",
        "for n, i in enumerate(array):\n",
        "    row = n // num_cols\n",
        "    col = n % num_cols\n",
        "\n",
        "    ax = axs[row, col]  # Selecciona el subplot\n",
        "\n",
        "    ax.set_title('Case Study 1, generationInterval: %s' % interval[n])\n",
        "\n",
        "    colors = ['royalblue', 'dodgerblue', 'limegreen',\n",
        "              'darkgreen', 'orange', 'darkorange', 'red']  #Colores para las barras\n",
        "      \n",
        "    bars = ax.bar(['Generated', 'Sent Tx', 'Rcvd Rx',\n",
        "                  'Rcvd Sink', 'Sent Control', 'Rcvd Control', 'Dropped'], \n",
        "                    [len(i[0][1]),len(i[2][1]), len(i[5][1]),\n",
        "                    len(i[10][1]), len(i[6][1]), len(i[8][1]), len(i[11][1])],\n",
        "                    width=0.7, color=colors)\n",
        "    \n",
        "   \n",
        "    ax.text(.99, .99,\n",
        "            'Buffers en t=200: Tx:%i Nx:%i Rx:%i' %(i[1][1][len(i[1][1])-1],\n",
        "                                           i[3][1][len(i[3][1])-1],\n",
        "                                           i[4][1][len(i[4][1])-1]),\n",
        "            style='italic',\n",
        "            horizontalalignment='right',\n",
        "            verticalalignment='top',\n",
        "            transform=ax.transAxes)\n",
        "\n",
        "    for bar in bars:\n",
        "      height = bar.get_height()\n",
        "      ax.text(bar.get_x() + bar.get_width() / 2, height, '%d' % int(height),\n",
        "              ha='center', va='bottom')    \n",
        "    # Rota las etiquetas en diagonal\n",
        "    ax.set_xticks(range(len(['Generated Tx', 'Sent Tx', 'Rcvd Rx', 'Rcvd Sink',\n",
        "                             'Sent Control', 'Rcvd Control', 'Dropped'])))\n",
        "    ax.set_xticklabels(['Generated Tx', 'Sent Tx', 'Rcvd Rx', 'Rcvd Sink',\n",
        "                             'Sent Control', 'Rcvd Control', 'Dropped'],\n",
        "                      rotation=45, ha='right', va='top')\n",
        "\n",
        "# Remover cualquier subplot vacia\n",
        "if num_subplots < num_rows * num_cols:\n",
        "    for i in range(num_subplots, num_rows * num_cols):\n",
        "        fig.delaxes(axs.flatten()[i])\n",
        "\n",
        "\n",
        "\n",
        "# Ajustar el espaciado entre subplots\n",
        "fig.tight_layout()\n",
        "\n",
        "# Mostrar el plot\n",
        "plt.show()"
      ]
    },
    {
      "attachments": {},
      "cell_type": "markdown",
      "metadata": {
        "id": "JO8jrojiLhe0"
      },
      "source": [
        "# Grafico de cargas"
      ]
    },
    {
      "cell_type": "code",
      "execution_count": null,
      "metadata": {
        "colab": {
          "base_uri": "https://localhost:8080/"
        },
        "id": "ygUYFtqeOKfs",
        "outputId": "5e49012a-b382-4c64-e5f3-323ddcf367ba"
      },
      "outputs": [],
      "source": [
        "#parse info para grafico de carga util y recibida\n",
        "\n",
        "totalsent = []\n",
        "totalrcv =[]\n",
        "\n",
        "for i in array:\n",
        "#  pass\n",
        "#  sent = len(i[3][1])  #analisis\n",
        "#  rcv = len(i[4][1])   #analisis\n",
        "  sent = len(i[2][1])  #diseño\n",
        "  rcv = len(i[5][1])   #diseño\n",
        "  totalsent.append(sent)\n",
        "  totalrcv.append(rcv)\n",
        "\n",
        "print(totalsent)\n",
        "print(totalrcv)\n",
        "\n",
        "'''\n",
        "intervals = [0.1, 0.2, 0.3, 0.5, 0.7, 1]\n",
        "sent_analisis_case1 = [1979, 1001, 694, 397, 286, 191]\n",
        "rcv_analisis_case1 =  [998, 987, 693, 396, 285, 191]\n",
        "sent_analisis_case2 = [1979, 1001, 694, 397, 286, 191]\n",
        "rcv_analisis_case2 =  [998, 987, 693, 396, 285, 191]\n",
        "sent_design_case1 =   [1148, 999, 694, 397, 286, 191]\n",
        "rcv_design_case1 =    [1147, 997, 694, 397, 285, 191]\n",
        "sent_design_case2 =   [1971, 999, 694, 397, 286, 191]\n",
        "rcv_design_case2 =    [999, 987, 693, 397, 285, 191]\n",
        "\n",
        "intervals = [0.1, 0.07, 0.05, 0.03, 0.02, 0.01]\n",
        "analisis_sent1 = [1979, 2878, 4112, 6643, 9878, 19948]\n",
        "analisis_rcv1 =  [998, 997, 998, 998, 998, 998]\n",
        "analisis_sent2 = [1979, 2878, 4112, 6643, 9878, 19948]\n",
        "analisis_rcv2 =  [998, 997, 998, 998, 998, 998]\n",
        "design_sent1 = [1979, 2878, 4112, 6643, 9878, 19948]\n",
        "design_rcv1 = [1147, 1164, 1165, 1165, 1165, 1165]\n",
        "design_sent2 = [1979, 2878, 4112, 6643, 9878, 19948]\n",
        "design_rcv2  = [999, 998, 999, 999, 999, 999]\n",
        "'''\n",
        "\n",
        "\n",
        "intervals = [1, 0.7, 0.5, 0.3, 0.2, 0.1, 0.07, 0.05, 0.03, 0.02, 0.01]\n",
        "\n",
        "analisis_sent1 = [191, 286, 397, 694, 1001, 1979, 2878, 4112, 6643, 9878, 19948]\n",
        "analisis_rcv1 =  [191, 285, 396, 693, 987, 998, 997, 998, 998, 998, 998]\n",
        "\n",
        "analisis_sent2 = [191, 286, 397, 694, 1001, 1979, 2878, 4112, 6643, 9878, 19948]\n",
        "analisis_rcv2 =  [191, 285, 396, 693, 987, 998, 997, 998, 998, 998, 998]\n",
        "\n",
        "design_sent1 = [191, 286, 397, 694, 999, 1148, 1165, 1166, 1166, 1166, 1166]  #oknigga\n",
        "design_rcv1 =  [191, 285, 397, 694, 997, 1147, 1164, 1165, 1165, 1165, 1165]\n",
        "\n",
        "design_sent2 = [191, 286, 397, 694, 999, 1971, 1995, 2000, 2000, 2000, 2000] #okdou\n",
        "design_rcv2  = [191, 285, 397, 693, 987, 999, 998, 999, 999, 999, 999]\n",
        "\n",
        "todas = [analisis_sent1, analisis_sent2, design_sent1, design_sent2,\n",
        "         analisis_rcv1, analisis_rcv2, design_rcv1, design_rcv2]\n",
        "\n",
        "ofrecida = [analisis_sent1, analisis_sent2, design_sent1, design_sent2]\n",
        "util = [analisis_rcv1, analisis_rcv2, design_rcv1, design_rcv2]\n",
        "\n",
        "for lst in todas:\n",
        "    for i in range(len(lst)):\n",
        "        lst[i] = lst[i] / 200\n",
        "      \n",
        "#print(todas)\n",
        "print('sent design', design_sent1)\n",
        "print('rcv design', design_rcv1)\n",
        "print('rcv design', design_rcv2)\n",
        "print('sent analisis:', analisis_sent1)\n",
        "print('rcv analisis: ', analisis_rcv1)"
      ]
    },
    {
      "cell_type": "code",
      "execution_count": null,
      "metadata": {
        "colab": {
          "base_uri": "https://localhost:8080/",
          "height": 980
        },
        "id": "FQpOXhZH1z36",
        "outputId": "7084c919-9486-4598-ce6d-ccb8d9ba0f52"
      },
      "outputs": [],
      "source": [
        "intervals = [1, 0.7, 0.5, 0.3, 0.2, 0.1, 0.07, 0.05, 0.03, 0.02, 0.01]\n",
        "\n",
        "ofrecida = [analisis_sent1, analisis_sent2, design_sent1, design_sent2]\n",
        "util = [analisis_rcv1, analisis_rcv2, design_rcv1, design_rcv2]\n",
        "\n",
        "fig, axs = plt.subplots(2, 2, figsize=(15, 10))\n",
        "\n",
        "colors = ['b', 'g', 'r', 'c'] \n",
        "\n",
        "titles = ['Analisis, caso 1', 'Analisis, caso 2', 'Diseño, caso 1', 'Diseño, caso 2']\n",
        "\n",
        "for i in range(len(ofrecida)):\n",
        "    row = i // 2 \n",
        "    col = i % 2  \n",
        "\n",
        "    axs[row, col].scatter(ofrecida[i], util[i], c=colors[i], label=f'generationInterval')\n",
        "    axs[row, col].plot(ofrecida[i], util[i], linestyle='-', color='gray', alpha=0.7)\n",
        "\n",
        "    for j, txt in enumerate(intervals):\n",
        "        axs[row, col].annotate(txt, (ofrecida[i][j], util[i][j]), textcoords=\"offset points\", xytext=(0, 10),\n",
        "                        ha='center', fontsize=8)\n",
        "\n",
        "    axs[row, col].set_xlabel('Carga Ofrecida (paquetes/seg)')\n",
        "    axs[row, col].set_ylabel('Carga Util (paquetes/seg)')\n",
        "    axs[row, col].set_title(titles[i])\n",
        "    axs[row, col].legend()\n",
        "    axs[row, col].grid(True)\n",
        "\n",
        "plt.tight_layout()\n",
        "plt.show()\n"
      ]
    }
  ],
  "metadata": {
    "colab": {
      "collapsed_sections": [
        "VolSPr3J4rLd",
        "tjQXEOwtiCYR",
        "ZeQ399Nl_RIG",
        "tHtc0yXD_KlR"
      ],
      "provenance": [],
      "toc_visible": true
    },
    "kernelspec": {
      "display_name": "Python 3",
      "language": "python",
      "name": "python3"
    },
    "language_info": {
      "codemirror_mode": {
        "name": "ipython",
        "version": 2
      },
      "file_extension": ".py",
      "mimetype": "text/x-python",
      "name": "python",
      "nbconvert_exporter": "python",
      "pygments_lexer": "ipython2",
      "version": "2.7.17"
    }
  },
  "nbformat": 4,
  "nbformat_minor": 0
}
